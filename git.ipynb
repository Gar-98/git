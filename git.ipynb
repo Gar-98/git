{
 "cells": [
  {
   "cell_type": "code",
   "execution_count": null,
   "id": "c1cda1bd",
   "metadata": {},
   "outputs": [],
   "source": [
    "\"\"\"Git и организация программных проектов.\"\"\""
   ]
  },
  {
   "cell_type": "markdown",
   "id": "eed25798",
   "metadata": {
    "vscode": {
     "languageId": "plaintext"
    }
   },
   "source": [
    "### Создание новых проектов Python с использованием Cookiecutter"
   ]
  },
  {
   "cell_type": "markdown",
   "id": "e1945013",
   "metadata": {},
   "source": [
    "Установка Cookiecutter: `pip install --user cookiecutter` (в системе Windows) или `pip3 install --user cookiecutter` (в macOS и Linux).\n",
    "\n",
    "команду из окна терминала для создания папки C:\\Users\\Al\\wizcoin с заготовками файлов для базового проекта Python. Модуль cookiecutter загружает шаблон с GitHub и задает серию вопросов о создаваемом проекте: `cookiecutter gh:asweigart/cookiecutter-basicpythonproject`"
   ]
  },
  {
   "cell_type": "markdown",
   "id": "dcb63f7d",
   "metadata": {},
   "source": [
    "<img src=\"https://clck.ru/3MuQkJ\"><br>\n",
    "<img src=\"https://clck.ru/3MuR7z\">"
   ]
  },
  {
   "cell_type": "markdown",
   "id": "45c46bcf",
   "metadata": {},
   "source": [
    "### Установка Git"
   ]
  },
  {
   "cell_type": "markdown",
   "id": "0f6e3145",
   "metadata": {},
   "source": [
    "Узнать версию git: `git --version`"
   ]
  },
  {
   "cell_type": "markdown",
   "id": "fd710d2f",
   "metadata": {},
   "source": [
    "### Настройка имени пользователя и адреса электронной почты"
   ]
  },
  {
   "cell_type": "markdown",
   "id": "a55b0520",
   "metadata": {},
   "source": [
    "- Задать имя: `git config --global user.name \"Al Sweigart\"`\n",
    "- Задать почту: `git config --global user.email al@inventwithpython.com`\n",
    "- Просмотр конфигурационных настроек: `git config --list`"
   ]
  },
  {
   "cell_type": "markdown",
   "id": "c68073e2",
   "metadata": {},
   "source": [
    "### Работа с git"
   ]
  },
  {
   "cell_type": "markdown",
   "id": "d60644a8",
   "metadata": {},
   "source": [
    "Создание репозитория:\n",
    "- Инициализация локального репозитория: `git init`\n",
    "- Клонирование удаленного репозитория: `git clone`\n",
    "\n",
    "Добавление файлов для отслеживаний: \n",
    "- Добавление файлов в репозиторий для отслеживаия: `git add <имя_файла>`\n",
    "- Сохранение файлов: `git commit -am \"сообщение\"` (автоматически добавляет в комммит все файлы кроме новых)\n",
    "\n",
    "Состояние:\n",
    "- Просмотрм текущего статуса репозитория и состояния его файлов: `git status`\n"
   ]
  },
  {
   "cell_type": "markdown",
   "id": "1b5a9f8d",
   "metadata": {},
   "source": [
    "### Создание репозитория Git на вашем компьютере"
   ]
  },
  {
   "cell_type": "markdown",
   "id": "1fbb8716",
   "metadata": {},
   "source": [
    "1. На windows:\n",
    "- md wizcoin\n",
    "- cd wizcoin\n",
    "- git init\n",
    "\n",
    "2. На Mac и Linux:\n",
    "- mkdir wizcoin\n",
    "- cd wizcoin\n",
    "- git init"
   ]
  },
  {
   "cell_type": "markdown",
   "id": "c98ac23e",
   "metadata": {},
   "source": [
    "### Watch"
   ]
  },
  {
   "cell_type": "markdown",
   "id": "c167f742",
   "metadata": {},
   "source": [
    "Команда watch выполняет заданную команду через каждые две секунды и обновляет экран новыми результатами.\n",
    "\n",
    "Установка:\n",
    "- Для Windows команду watch можно загрузить со страницы https://inventwithpython.com/watch.exe и поместить ее в папку из PATH (например, C:\\\n",
    "Windows)\n",
    "- Пользователи macOS могут зайти на сайт https://www.macports.\n",
    "org/, загрузить и установить MacPorts, а затем выполнить команду sudo\n",
    "ports install watch.\n",
    "-  В системе Linux команда watch уже установлена. \n",
    "\n",
    "Запуск:\n",
    "-  Выполнение команды в терминале каждые 2 секунды: `watch \"git status\"`"
   ]
  },
  {
   "cell_type": "markdown",
   "id": "2f41dcbe",
   "metadata": {},
   "source": [
    "<img href=\"https://clck.ru/3MuQkJ\">"
   ]
  },
  {
   "cell_type": "markdown",
   "id": "443c0da6",
   "metadata": {},
   "source": [
    "### Добавление файлов для отслеживания"
   ]
  },
  {
   "cell_type": "markdown",
   "id": "1331097a",
   "metadata": {},
   "source": [
    "Варианты использования git add:\n",
    "- `git add .coveragerc` - конкретнный файл\n",
    "- `git add .gitignore, git add LICENSE.txt` - несколько файлов\n",
    "- `git add *.py` - все файлы с конкретным расширением\n",
    "- `git add .` - все файлы"
   ]
  },
  {
   "cell_type": "markdown",
   "id": "c4ca7966",
   "metadata": {},
   "source": [
    "### Игнорирование файлов в репозитории"
   ]
  },
  {
   "cell_type": "markdown",
   "id": "b7b04c3a",
   "metadata": {},
   "source": [
    "- Текстовый файл с именем .gitignore содержит файлы и папки, которые не должны отслеживаться Git.\n",
    "- В файле .gitignore символ * используется для шаблонов, а # — для комментариев\n",
    "- Если вы хотите видеть, какие файлы в вашем рабочем каталоге игнорируются на основании настроек в .gitignore, выполните команду `git ls-files --other --ignored --exclude-standard`."
   ]
  },
  {
   "cell_type": "markdown",
   "id": "d0f2ae72",
   "metadata": {},
   "source": [
    "### Сохранение изменений"
   ]
  },
  {
   "cell_type": "markdown",
   "id": "006ad9d5",
   "metadata": {},
   "source": [
    "- `git commit -m <сообщение>` - сохранение всех индексированных файлов\n",
    "- `git commit -am <сообщение>`- сохранение всех индексированных файлов, но не нужно писать git add .\n",
    "- `git commit -m <сообщение> file1.py file2.py` - сохранение некоторых измененных файлов"
   ]
  },
  {
   "cell_type": "markdown",
   "id": "1513d13f",
   "metadata": {},
   "source": [
    "### Просмотр изменений перед коммитом"
   ]
  },
  {
   "cell_type": "markdown",
   "id": "953f6ebf",
   "metadata": {},
   "source": [
    "- `git diff command` - просмотр различий между рабочей копией кода и последним сохраненным кодом\n",
    "- Применять команду до `git add`\n",
    "\n",
    "Как понимать вывод git diff:\n",
    "- `-` красным: удаленные строки\n",
    "- `+` зеленым: добавленные строки\n",
    "- `@@ -13,7 +13,14 @@`: координаты изменений\n",
    "- Показывает контекст вокруг изменений"
   ]
  },
  {
   "cell_type": "markdown",
   "id": "3c9e8064",
   "metadata": {},
   "source": [
    "### Просмотр изменений в графическом приложении командой git difftool"
   ]
  },
  {
   "cell_type": "markdown",
   "id": "30a7c684",
   "metadata": {},
   "source": [
    "- Windows:\n",
    "    1. Загрузить WinMerge (https://winmerge.org/) \n",
    "- Linux:\n",
    "    1. Установить либо Meld командой `sudo apt-get install meld`, либо Kompare командой `sudo apt-get install kompare`\n",
    "- MacOS:\n",
    "    1. Начать с команд, которые устанавливают и настраивают Homebrew (менеджер пакетов для установки программ): \n",
    "    2. воспользуйтесь Homebrew для установки tkdiff: \n",
    "    - `/bin/bash -c \"$(curl -fsSL https://raw.githubusercontent.com/Homebrew/install/\n",
    "master/install.sh)\"`\n",
    "    - `brew install tkdiff`\n",
    "\n",
    "Настройка Git для использования этих программ: \n",
    "- `git config diff.tool <название>` - название: winmerge, tkdiff, meld или kompare\n",
    "- `git config --global difftool.prompt false` - Git перестанет заарашивать подтверждения каждый раз, когда вы хотите запустить программу просмотра изменений\n",
    "\n",
    "Использование:\n",
    "- `git difftool <имя_файла>` - просмотр изменений, внесенных в файл"
   ]
  },
  {
   "cell_type": "markdown",
   "id": "fecd1e7a",
   "metadata": {},
   "source": [
    "### Удаление файлов из репозитория"
   ]
  },
  {
   "cell_type": "markdown",
   "id": "4f5f63f7",
   "metadata": {},
   "source": [
    "- `git rm deleteme.txt` - удаляет файл из рабочей копии\n",
    "- делаем коммит\n",
    "\n",
    "**ВАЖНО**: \n",
    "- `git restore <файл>` - восстанавливает файл, если удалили его вручную или через терминал\n",
    "- Команда git rm работает только с файлами, находящимися в чистом, сохраненном, состоянии без каких-либо изменений"
   ]
  },
  {
   "cell_type": "markdown",
   "id": "ddaa7787",
   "metadata": {},
   "source": [
    "### Переименование и перемещение файлов из репозитория"
   ]
  },
  {
   "cell_type": "markdown",
   "id": "73d27b7b",
   "metadata": {},
   "source": [
    "- `git mv movetest/README.txt README.md` - переименование и перемещение файла\n",
    "- делаем коммит"
   ]
  },
  {
   "cell_type": "markdown",
   "id": "3b0b0143",
   "metadata": {},
   "source": [
    "### Просмотр журнала коммитов"
   ]
  },
  {
   "cell_type": "markdown",
   "id": "c45db033",
   "metadata": {},
   "source": [
    "- `git log` - выводит список всех коммитов\n",
    "- `git log --oneline` - краткий вывод списка коммитов\n",
    "- `git log --oneline -n 3` - кратки вывод последних 3 коммитов\n",
    "\n",
    "Если журнал не помещается в окне терминала, текст можно прокрутить клавишами ↑ и ↓. Чтобы завершить просмотр, нажмите клавишу q.\n",
    "\n",
    "- `git show <хеш>:<имя_файла>` - вывести содержимое файла на момент конкретного коммита"
   ]
  },
  {
   "cell_type": "markdown",
   "id": "b6003c1a",
   "metadata": {},
   "source": [
    "### Отмена несохраненных локальных изменений"
   ]
  },
  {
   "cell_type": "markdown",
   "id": "4a6414c4",
   "metadata": {},
   "source": [
    "- `git restore <имя_файла>` -  вернуть файл к версии в последнем коммите\n",
    "- `git checkout .` - отменить все изменения во всех файлах рабочей копии\n",
    "\n",
    "Использовать до индексации"
   ]
  },
  {
   "cell_type": "markdown",
   "id": "4fff7cf7",
   "metadata": {},
   "source": [
    "### Деиндексирование проиндексированного файла"
   ]
  },
  {
   "cell_type": "markdown",
   "id": "f721f153",
   "metadata": {},
   "source": [
    "- `git restore --staged <имя_файла>` - исключение файла из индексированного состояния"
   ]
  },
  {
   "cell_type": "markdown",
   "id": "8fc751e2",
   "metadata": {},
   "source": [
    "### Отмена последних коммитов"
   ]
  },
  {
   "cell_type": "markdown",
   "id": "851dd65a",
   "metadata": {},
   "source": [
    "- `git revert -n HEAD~3..HEAD` - отмена последних 3 коммитов\n",
    "- `git add .`                     \n",
    "- `git commit -m \"Отмена изменений\"`  "
   ]
  },
  {
   "cell_type": "markdown",
   "id": "f23b3432",
   "metadata": {},
   "source": [
    "### Возврат к конкретному коммиту для отдельного файла"
   ]
  },
  {
   "cell_type": "markdown",
   "id": "e405f678",
   "metadata": {},
   "source": [
    "- `git checkout хеш -- файл.py` - вернуть файл к версии\n",
    "- `git add файл.py`               \n",
    "- `git commit -m \"Откат к версии хеш\"`  \n",
    "\n",
    "Чтобы посмотреть старую версию файла:\n",
    "- `git show хеш:файл.py`"
   ]
  },
  {
   "cell_type": "markdown",
   "id": "d0e8b1a8",
   "metadata": {},
   "source": [
    "### Перезапись истории коммитов"
   ]
  },
  {
   "cell_type": "markdown",
   "id": "e49c221c",
   "metadata": {},
   "source": [
    "### Отправка существующего репозитория на GitHub"
   ]
  },
  {
   "cell_type": "markdown",
   "id": "06eec549",
   "metadata": {},
   "source": [
    "- Использовать `git filter-branch`\n",
    "- Или BFG Repo-Cleaner (рекомендуется)\n",
    "- Ссылка: https://help.github.com/en/articles/removing-sensitive-data-from-a-repository"
   ]
  },
  {
   "cell_type": "markdown",
   "id": "6e3115af",
   "metadata": {},
   "source": [
    "Чтобы отправить существующий репозиторий из командной строки, введите следующие команды:\n",
    "- `https://github.com/username/repository` - добавляет GitHub как удаленный репозиторий, соответствующий локальному репозиторию\n",
    "- `git push -u origin master` - отправляет все изменения, внесенные в локальном репозитории, в удаленный (при первой отправке)\n",
    "- `git push` - отправляет все изменения, внесенные в локальном репозитории, в удаленный (при повторной отправке)"
   ]
  },
  {
   "cell_type": "markdown",
   "id": "04306f05",
   "metadata": {},
   "source": [
    "### Клонирование существующего репозитория GitHub"
   ]
  },
  {
   "cell_type": "markdown",
   "id": "121ced50",
   "metadata": {},
   "source": [
    "- `git clone https://github.com/username/repo.git` - клонирование репозитория "
   ]
  },
  {
   "cell_type": "code",
   "execution_count": 2,
   "id": "2eda2dcf",
   "metadata": {},
   "outputs": [
    {
     "data": {
      "text/plain": [
       "'03'"
      ]
     },
     "execution_count": 2,
     "metadata": {},
     "output_type": "execute_result"
    }
   ],
   "source": [
    "\"3\".zfill(2)"
   ]
  }
 ],
 "metadata": {
  "kernelspec": {
   "display_name": "base",
   "language": "python",
   "name": "python3"
  },
  "language_info": {
   "codemirror_mode": {
    "name": "ipython",
    "version": 3
   },
   "file_extension": ".py",
   "mimetype": "text/x-python",
   "name": "python",
   "nbconvert_exporter": "python",
   "pygments_lexer": "ipython3",
   "version": "3.12.7"
  }
 },
 "nbformat": 4,
 "nbformat_minor": 5
}
